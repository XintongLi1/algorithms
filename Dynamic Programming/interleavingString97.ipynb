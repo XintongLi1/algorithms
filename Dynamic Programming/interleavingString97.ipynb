{
 "cells": [
  {
   "attachments": {},
   "cell_type": "markdown",
   "metadata": {},
   "source": [
    "# LeetCode 97 Interleaving Strings\n",
    "\n",
    "Given strings `s1`, `s2`, and `s3`, find whether `s3` is formed by an interleaving of `s1` and `s2`.\n",
    "\n",
    "Method 1: backtracking with memoization\n",
    "\n",
    "1. Immediately return false for cases where the lengths of the strings do not align\n",
    "2. Create a function that recursively find if `s3[i+j..]` can be formed by `s1[i..]` and `s2[j..]`\n",
    "3. Cache the result with `@cache()` or `memo`\n",
    "   * We can remember only the `false` outcomes since the `true` results are returned directly to the initiating function call.\n",
    "\n",
    "Method 2: dynamic programming\n",
    "Similar to the first method, but we can start from the end of the strings. \n",
    "We define the problem `dp[i, j] = true` if `s3[i+j..]` can be formed by `s1[i..]` and `s2[j..]`, and `dp[i, j] = false` otherwise.\n",
    "Hence, we get the following\n",
    "```py\n",
    "if s1[i] == s3[i+j] and dp[i+1, j] or s2[j] == s3[i+j] and dp[i+1, j]:\n",
    "   dp[i, j] = True\n",
    "else:\n",
    "   dp[i, j] = False\n",
    "```\n",
    "\n",
    "Alternatively, we could assume all strings are reversed and therefore start from index 0.\n",
    "We therefore need to define the base cases:\n",
    "1. `dp[0, 0] = true` \n",
    "   * the empty strings can match\n",
    "2. `dp[i, 0] = true for i in range(1, len(s1)+1) if dp[i-1, 0] and s1[i-1] == s3[i-1]` \n",
    "   * the first `i` characters of `s1` and `s3` match\n",
    "3. `dp[0, j] = true for j in range(1, len(s2)+1) if dp[0, j-1] and s2[j-1] == s3[j-1]` \n",
    "   * the first `j` characters of `s2` and `s3` match \n",
    "\n",
    "Subsequently, we can populate `dp[i, j]` based on whether `dp[i-1, j] and s1[i-1] == s3[i+j-1]` or `dp[i, j-1] and s2[j-1] == s3[i+j-1]` holds true."
   ]
  },
  {
   "cell_type": "code",
   "execution_count": 1,
   "metadata": {},
   "outputs": [],
   "source": [
    "class Solution1:\n",
    "    def isInterleave(self, s1: str, s2: str, s3: str) -> bool:\n",
    "        if len(s1) + len(s2) != len(s3):\n",
    "            return False\n",
    "        memo = set()  # only cache the cases that cannot form an interleaving string\n",
    "        def match(i, j): # i, j: start index for s1, s2, the start index of s3 = i + j\n",
    "            # terminate condition\n",
    "            if i + j == len(s3):\n",
    "                return True\n",
    "            if (i, j) in memo:\n",
    "                return False\n",
    "            if i < len(s1) and s1[i] == s3[i+j] and match(i+1, j):\n",
    "                return True\n",
    "            if j < len(s2) and s2[j] == s3[i+j] and match(i, j+1):\n",
    "                return True\n",
    "            memo.add((i, j))\n",
    "            return False\n",
    "        return match(0, 0)"
   ]
  },
  {
   "cell_type": "code",
   "execution_count": 2,
   "metadata": {},
   "outputs": [],
   "source": [
    "class Solution2:\n",
    "    def isInterleave(self, s1: str, s2: str, s3: str) -> bool:\n",
    "        if len(s1) + len(s2) != len(s3):\n",
    "            return False\n",
    "        \n",
    "        dp = [[False for _ in range(len(s2)+1)] for _ in range(len(s1)+1)]\n",
    "        dp[0][0] = True\n",
    "        for i in range(len(s1)):\n",
    "            if s1[i] == s3[i]:\n",
    "                dp[i+1][0] = True   # only match s1\n",
    "            else:\n",
    "                break\n",
    "        for j in range(len(s2)):\n",
    "            if s2[j] == s3[j]:\n",
    "                dp[0][j+1] = True   # only match s2\n",
    "            else:\n",
    "                break\n",
    "        for i in range(1, len(s1)+1):\n",
    "            for j in range(1, len(s2)+1):\n",
    "                if s1[i-1] == s3[i+j-1] and dp[i-1][j] or s2[j-1] == s3[i+j-1] and dp[i][j-1]:\n",
    "                    dp[i][j] = True\n",
    "        return dp[-1][-1]"
   ]
  }
 ],
 "metadata": {
  "kernelspec": {
   "display_name": "Python 3",
   "language": "python",
   "name": "python3"
  },
  "language_info": {
   "codemirror_mode": {
    "name": "ipython",
    "version": 3
   },
   "file_extension": ".py",
   "mimetype": "text/x-python",
   "name": "python",
   "nbconvert_exporter": "python",
   "pygments_lexer": "ipython3",
   "version": "3.10.6"
  },
  "orig_nbformat": 4
 },
 "nbformat": 4,
 "nbformat_minor": 2
}
