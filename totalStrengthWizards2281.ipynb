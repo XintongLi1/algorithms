{
 "cells": [
  {
   "attachments": {},
   "cell_type": "markdown",
   "metadata": {},
   "source": [
    "# LeetCode 2281 Sum of Total Strength of Wizards\n",
    "\n",
    "`def totalStrength(strength: List[int]) -> int`\n",
    "\n",
    "1. For each `i` in `0 .. len(strength)-1`\n",
    "   * Find first index `l` on the left side of `i` and first index `r` on the right side of `i` such that \n",
    "     * `strength[l] <= strength[i]`, `strength[r] < strength[i]`\n",
    "     * `strength[i] < strength[l+1], ..., strength[i-1]`, `strength[i] <= strength[i+1], ..., strength[r-1]`\n",
    "   * Can be calculated in one pass using monotonic stack\n",
    "2. Preprocess `prefix` and `prefix_sum` arrays\n",
    "   * `prefix[j] = strength[0] + strength[1] + ... + strength[j-1]`, and `prefix[0] = 0` \n",
    "   * `sum(strength[j..k]) = prefix[k+1] - prefix[j] = f(k+1) - f(j)`\n",
    "   * `prefix_sum[j] = prefix[0] + prefix[1] + ... + prefix[j-1]`\n",
    "3. For each `i` in `0 .. len(strength)-1`, the sum of strengths of contiguous groups is \n",
    "   $$\n",
    "   \\begin{aligned}\n",
    "   \\sum_{k=i}^{r-1}\\sum_{j=l+1}^{i} \\text{sum}(j..k) = & \\sum_{k=i}^{r-1}\\sum_{j=l+1}^{i} f(k+1) - f(j) \\\\\n",
    "   = & \\sum_{k=i}^{r-1} (i-l) f(k+1) - (f(l+1) + f(l+2) + \\cdots + f(i)) \\\\\n",
    "   = & (i - l) (f(i+1) + f(i+2) + \\cdots + f(r)) - (r-i)(f(l+1) + f(l+2) + \\cdots + f(i))\n",
    "   \\end{aligned}\n",
    "   $$ \n",
    "\n",
    "$O(N)$ time and space complexity\n",
    "  "
   ]
  },
  {
   "cell_type": "code",
   "execution_count": 1,
   "metadata": {},
   "outputs": [],
   "source": [
    "from typing import List"
   ]
  },
  {
   "cell_type": "code",
   "execution_count": 2,
   "metadata": {},
   "outputs": [],
   "source": [
    "def totalStrength(strength: List[int]) -> int:\n",
    "    mod = 10**9 + 7\n",
    "    n = len(strength)\n",
    "    left = [-1] * n\n",
    "    right = [n] * n\n",
    "    # 1. calculate left and right bound\n",
    "    stack = []\n",
    "    for i in range(n):\n",
    "        while stack and strength[stack[-1]] > strength[i]:\n",
    "            j = stack.pop()\n",
    "            right[j] = i\n",
    "        stack.append(i)\n",
    "    stack = []\n",
    "    for i in range(n-1, -1, -1):\n",
    "        while stack and strength[stack[-1]] >= strength[i]:\n",
    "            j = stack.pop()\n",
    "            left[j] = i\n",
    "        stack.append(i)\n",
    "    \n",
    "    # 2. calculate prefix and prefix_sum\n",
    "    prefix = [0] * (n+1)\n",
    "    prefix_sum = [0] * (n+2)\n",
    "    for i in range(n):\n",
    "        prefix[i+1] = prefix[i] + strength[i]\n",
    "        prefix_sum[i+1] = prefix_sum[i] + prefix[i]\n",
    "    prefix_sum[n+1] = prefix_sum[n] + prefix[n]\n",
    "    \n",
    "    # 3. calculate total strengths of all contiguous groups\n",
    "    res = 0\n",
    "    for i in range(n):\n",
    "        res += strength[i] * ((i - left[i]) * (prefix_sum[right[i] + 1] - prefix_sum[i+1]) % mod \\\n",
    "                                + 2 * mod \\\n",
    "                                - (right[i] - i) * (prefix_sum[i+1] - prefix_sum[left[i]+1]) % mod)\n",
    "        res %= mod\n",
    "    return res"
   ]
  },
  {
   "cell_type": "code",
   "execution_count": 3,
   "metadata": {},
   "outputs": [
    {
     "data": {
      "text/plain": [
       "'All tests passed!'"
      ]
     },
     "execution_count": 3,
     "metadata": {},
     "output_type": "execute_result"
    }
   ],
   "source": [
    "# Test cases\n",
    "\n",
    "inputs = [[1],\n",
    "          [1,3,1,2],\n",
    "          [1,3,1,2,4],\n",
    "          [5,4,6,7,8,3,2,1,4,9]]\n",
    "outputs = [1, 44, 100, 2326]\n",
    "\n",
    "all_passed = True\n",
    "for i in range(len(inputs)):\n",
    "    ret = totalStrength(inputs[i])\n",
    "    if ret != outputs[i]:\n",
    "        print(f\"Test case {i+1} failed: input = {inputs[i]}, expected = {outputs[i]}, output = {ret}\")\n",
    "        all_passed = False\n",
    "\n",
    "\"All tests passed!\" if all_passed else \"\"       "
   ]
  }
 ],
 "metadata": {
  "kernelspec": {
   "display_name": "Python 3",
   "language": "python",
   "name": "python3"
  },
  "language_info": {
   "codemirror_mode": {
    "name": "ipython",
    "version": 3
   },
   "file_extension": ".py",
   "mimetype": "text/x-python",
   "name": "python",
   "nbconvert_exporter": "python",
   "pygments_lexer": "ipython3",
   "version": "3.9.5"
  },
  "orig_nbformat": 4,
  "vscode": {
   "interpreter": {
    "hash": "eef3fcd8a5302aa5b833de0cb63947c10383b053a4000f5affa7bba2f2033010"
   }
  }
 },
 "nbformat": 4,
 "nbformat_minor": 2
}
